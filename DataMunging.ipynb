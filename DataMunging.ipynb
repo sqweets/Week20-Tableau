{
 "cells": [
  {
   "cell_type": "code",
   "execution_count": 1,
   "metadata": {},
   "outputs": [],
   "source": [
    "# Dependencies and Setup\n",
    "import matplotlib.pyplot as plt\n",
    "import pandas as pd\n",
    "import numpy as np"
   ]
  },
  {
   "cell_type": "code",
   "execution_count": 2,
   "metadata": {},
   "outputs": [],
   "source": [
    "pd.set_option('display.max_rows', 4000)\n",
    "pd.set_option('display.max_columns', 100)"
   ]
  },
  {
   "cell_type": "code",
   "execution_count": 3,
   "metadata": {},
   "outputs": [],
   "source": [
    "# Build 2017 and 2018 first quarters\n",
    "jan_2017_orig = \"2017 bike data/201701-citibike-tripdata.csv\"\n",
    "feb_2017_orig = \"2017 bike data/201702-citibike-tripdata.csv\"\n",
    "mar_2017_orig = \"2017 bike data/201703-citibike-tripdata.csv\"\n",
    "\n",
    "jan_2018_orig = \"2018 bike data/201801-citibike-tripdata.csv\"\n",
    "feb_2018_orig = \"2018 bike data/201802-citibike-tripdata.csv\"\n",
    "mar_2018_orig = \"2018 bike data/201803-citibike-tripdata.csv\"\n",
    "\n",
    "# Create dataframes\n",
    "jan_2017_df = pd.read_csv(jan_2017_orig, low_memory=False)\n",
    "feb_2017_df = pd.read_csv(feb_2017_orig, low_memory=False)\n",
    "mar_2017_df = pd.read_csv(mar_2017_orig, low_memory=False)\n",
    "\n",
    "jan_2018_df = pd.read_csv(jan_2018_orig, low_memory=False)\n",
    "feb_2018_df = pd.read_csv(feb_2018_orig, low_memory=False)\n",
    "mar_2018_df = pd.read_csv(mar_2018_orig, low_memory=False)\n",
    "\n",
    "# Create first quarter dataframes\n",
    "first_qtr = [jan_2017_df, feb_2017_df, mar_2017_df]\n",
    "first_qtr_2017_df = pd.concat(first_qtr, ignore_index=True)\n",
    "\n",
    "first_qtr = [jan_2018_df, feb_2018_df, mar_2018_df]\n",
    "first_qtr_2018_df = pd.concat(first_qtr, ignore_index=True)\n",
    "\n",
    "first_qtr_2017_df.dropna(subset=['User Type'])\n",
    "first_qtr_2018_df.dropna(subset=['usertype'])\n",
    "\n",
    "first_qtr_2017_df.to_csv(\"formatted data/first_qtr_2017.csv\")\n",
    "first_qtr_2018_df.to_csv(\"formatted data/first_qtr_2018.csv\")\n"
   ]
  }
 ],
 "metadata": {
  "kernelspec": {
   "display_name": "Python 3",
   "language": "python",
   "name": "python3"
  },
  "language_info": {
   "codemirror_mode": {
    "name": "ipython",
    "version": 3
   },
   "file_extension": ".py",
   "mimetype": "text/x-python",
   "name": "python",
   "nbconvert_exporter": "python",
   "pygments_lexer": "ipython3",
   "version": "3.6.6"
  }
 },
 "nbformat": 4,
 "nbformat_minor": 2
}
